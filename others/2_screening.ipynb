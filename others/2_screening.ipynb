{
 "cells": [
  {
   "attachments": {},
   "cell_type": "markdown",
   "metadata": {},
   "source": [
    "## 1. 读取IC50数据"
   ]
  },
  {
   "cell_type": "code",
   "execution_count": 1,
   "metadata": {},
   "outputs": [
    {
     "data": {
      "text/plain": [
       "(5343, 9)"
      ]
     },
     "execution_count": 1,
     "metadata": {},
     "output_type": "execute_result"
    }
   ],
   "source": [
    "import pandas as pd\n",
    "df = pd.read_csv('AChE.IC50.csv',sep=';')  #ChEMBL上下载的csv是以分号为分隔符的\n",
    "names = ['Molecule ChEMBL ID', 'Molecule Name', 'Smiles', \n",
    "         'Standard Type', 'Standard Relation', 'Standard Value', 'Standard Units',\n",
    "         'Data Validity Comment', 'Comment',] # 仅关注这几列数据\n",
    "df = df[names]\n",
    "df = df[df['Smiles'].notnull()]\n",
    "df = df.sort_values('Standard Value').drop_duplicates(['Molecule ChEMBL ID'])  # 有的分子有多个IC50数据，仅保留一个\n",
    "df.shape"
   ]
  },
  {
   "attachments": {},
   "cell_type": "markdown",
   "metadata": {},
   "source": [
    "## 2.计算分子描述符"
   ]
  },
  {
   "cell_type": "code",
   "execution_count": 2,
   "metadata": {},
   "outputs": [],
   "source": [
    "from rdkit import Chem\n",
    "from rdkit.Chem.Draw import IPythonConsole # 在jupyter-notebook中显示分子结构\n",
    "from mordred import Calculator, descriptors\n",
    "from molvs import Standardizer\n",
    "import cPickle as pickle\n",
    "import os"
   ]
  },
  {
   "cell_type": "code",
   "execution_count": 3,
   "metadata": {},
   "outputs": [],
   "source": [
    "def calc_descriptors(SMI_df):\n",
    "    # create descriptor calculator with all descriptors\n",
    "    calc = Calculator(descriptors, ignore_3D=True)\n",
    "    s = Standardizer()\n",
    "    mols = [Chem.MolFromSmiles(smi) for smi in SMI_df]\n",
    "    mols = [s.largest_fragment(m) for m in mols]\n",
    "    df = calc.pandas(mols)\n",
    "    return df\n",
    "# --- I/O function\n",
    "def save(data,f):\n",
    "    with open(f,\"w\") as f1:\n",
    "        pickle.dump(data,f1)    \n",
    "def load(f):\n",
    "    with open(f,\"r\") as f1:\n",
    "        d = pickle.load(f1)\n",
    "    return d"
   ]
  },
  {
   "cell_type": "code",
   "execution_count": 4,
   "metadata": {},
   "outputs": [],
   "source": [
    "if os.path.isfile('descriptors-ic50.data') :\n",
    "    descriptors_ic50 = load('descriptors-ic50.data')\n",
    "else:\n",
    "    descriptors_ic50 = calc_descriptors(df['Smiles'])\n",
    "    save(descriptors_ic50,'descriptors-ic50.data')"
   ]
  },
  {
   "attachments": {},
   "cell_type": "markdown",
   "metadata": {},
   "source": [
    "## 3. 预测活性"
   ]
  },
  {
   "cell_type": "code",
   "execution_count": 5,
   "metadata": {},
   "outputs": [],
   "source": [
    "clf,scaler,features = load('model')\n",
    "\n",
    "X = descriptors_ic50[features].values\n",
    "X = scaler.fit_transform(X)   # 用训练集中的scaler参数标准化数据集\n",
    "y_prediction = clf.predict(X)"
   ]
  },
  {
   "cell_type": "code",
   "execution_count": 6,
   "metadata": {},
   "outputs": [
    {
     "name": "stdout",
     "output_type": "stream",
     "text": [
      "N predicted: 1377; N True Positive:1129; Accuracy:0.819898\n",
      "N True Positive in Database: 2949\n"
     ]
    }
   ],
   "source": [
    "df['label'] = y_prediction\n",
    "active = df[ df['label'] == 1 ]\n",
    "true_active = active[ active['Standard Value']<1e4 ]\n",
    "df_true_active = df[df['Standard Value']<1e4]\n",
    "\n",
    "print (\"N predicted: %d; N True Positive:%d; Accuracy:%f\" % (active.shape[0],true_active.shape[0],true_active.shape[0]*1.0/active.shape[0]))\n",
    "print (\"N True Positive in Database: %d\" % df_true_active.shape[0])"
   ]
  },
  {
   "attachments": {},
   "cell_type": "markdown",
   "metadata": {},
   "source": [
    "## 4. 可视化数据分布"
   ]
  },
  {
   "cell_type": "code",
   "execution_count": 7,
   "metadata": {},
   "outputs": [],
   "source": [
    "import matplotlib.pyplot as plt\n",
    "import seaborn as sns\n",
    "%matplotlib inline"
   ]
  },
  {
   "cell_type": "code",
   "execution_count": 8,
   "metadata": {},
   "outputs": [
    {
     "name": "stdout",
     "output_type": "stream",
     "text": [
      "0.551937113981\n"
     ]
    },
    {
     "name": "stderr",
     "output_type": "stream",
     "text": [
      "/home/liu/storage/soft/miniconda/2018.12/lib/python2.7/site-packages/scipy/stats/stats.py:1713: FutureWarning: Using a non-tuple sequence for multidimensional indexing is deprecated; use `arr[tuple(seq)]` instead of `arr[seq]`. In the future this will be interpreted as an array index, `arr[np.array(seq)]`, which will result either in an error or a different result.\n",
      "  return np.add.reduce(sorted[indexer] * weights, axis=axis) / sumval\n"
     ]
    },
    {
     "data": {
      "text/plain": [
       "<matplotlib.axes._subplots.AxesSubplot at 0x7f9c5f0db7d0>"
      ]
     },
     "execution_count": 8,
     "metadata": {},
     "output_type": "execute_result"
    },
    {
     "data": {
      "image/png": "[encoded data removed]",
      "text/plain": [
       "<Figure size 432x288 with 1 Axes>"
      ]
     },
     "metadata": {
      "needs_background": "light"
     },
     "output_type": "display_data"
    }
   ],
   "source": [
    "# 数据集中IC50<1e4的分子数占55%，SVM预测的活性分子中IC50<1e4的分子数占82% \n",
    "print df[df['Standard Value'] < 1e4].shape[0]*1.0/df.shape[0]\n",
    "\n",
    "# SVM漏筛了相当多的活性分子，但是筛出来的分子中高活性分子的比例大\n",
    "sns.distplot(df['Standard Value'].fillna(1e15),kde=False,rug=True,color='r') # database IC50 counts\n",
    "sns.distplot(active['Standard Value'].fillna(1e15),kde=False,rug=True,color='b') # active IC50 counts"
   ]
  },
  {
   "cell_type": "code",
   "execution_count": 9,
   "metadata": {
    "scrolled": true
   },
   "outputs": [
    {
     "data": {
      "text/plain": [
       "<matplotlib.axes._subplots.AxesSubplot at 0x7f9c8c089150>"
      ]
     },
     "execution_count": 9,
     "metadata": {},
     "output_type": "execute_result"
    },
    {
     "data": {
      "image/png": "[encoded data removed]",
      "text/plain": [
       "<Figure size 432x288 with 1 Axes>"
      ]
     },
     "metadata": {
      "needs_background": "light"
     },
     "output_type": "display_data"
    }
   ],
   "source": [
    "sns.distplot(df[df['Standard Value']<1e4]['Standard Value'],kde=False,rug=True,color='r') #\n",
    "sns.distplot(active[active['Standard Value']<1e4]['Standard Value'],kde=False,rug=True,color='b') # "
   ]
  },
  {
   "cell_type": "code",
   "execution_count": null,
   "metadata": {},
   "outputs": [],
   "source": []
  }
 ],
 "metadata": {
  "kernelspec": {
   "display_name": "python36",
   "language": "python",
   "name": "python3"
  },
  "language_info": {
   "codemirror_mode": {
    "name": "ipython",
    "version": 2
   },
   "file_extension": ".py",
   "mimetype": "text/x-python",
   "name": "python",
   "nbconvert_exporter": "python",
   "pygments_lexer": "ipython2",
   "version": "3.6.13"
  }
 },
 "nbformat": 4,
 "nbformat_minor": 2
}
